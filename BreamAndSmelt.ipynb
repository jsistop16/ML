{
  "nbformat": 4,
  "nbformat_minor": 0,
  "metadata": {
    "colab": {
      "name": "BreamAndSmelt.ipynb",
      "provenance": [],
      "collapsed_sections": [],
      "authorship_tag": "ABX9TyPUZksiGr0P+A8NrRv2Uxy2",
      "include_colab_link": true
    },
    "kernelspec": {
      "name": "python3",
      "display_name": "Python 3"
    },
    "language_info": {
      "name": "python"
    }
  },
  "cells": [
    {
      "cell_type": "markdown",
      "metadata": {
        "id": "view-in-github",
        "colab_type": "text"
      },
      "source": [
        "<a href=\"https://colab.research.google.com/github/jsistop16/ML/blob/main/BreamAndSmelt.ipynb\" target=\"_parent\"><img src=\"https://colab.research.google.com/assets/colab-badge.svg\" alt=\"Open In Colab\"/></a>"
      ]
    },
    {
      "cell_type": "code",
      "metadata": {
        "colab": {
          "base_uri": "https://localhost:8080/"
        },
        "id": "NNlOhuMH8bcc",
        "outputId": "9648b3ff-47fa-4a09-903f-9dce247deb0d"
      },
      "source": [
        "from sklearn.neighbors import KNeighborsClassifier\n",
        "import numpy as np\n",
        "\n",
        "fish_length = [25.4, 26.3, 26.5, 29.0, 29.0, 29.7, 29.7, 30.0, 30.0, 30.7, 31.0, 31.0, \n",
        "                31.5, 32.0, 32.0, 32.0, 33.0, 33.0, 33.5, 33.5, 34.0, 34.0, 34.5, 35.0, \n",
        "                35.0, 35.0, 35.0, 36.0, 36.0, 37.0, 38.5, 38.5, 39.5, 41.0, 41.0, 9.8, \n",
        "                10.5, 10.6, 11.0, 11.2, 11.3, 11.8, 11.8, 12.0, 12.2, 12.4, 13.0, 14.3, 15.0]\n",
        "fish_weight = [242.0, 290.0, 340.0, 363.0, 430.0, 450.0, 500.0, 390.0, 450.0, 500.0, 475.0, 500.0, \n",
        "                500.0, 340.0, 600.0, 600.0, 700.0, 700.0, 610.0, 650.0, 575.0, 685.0, 620.0, 680.0, \n",
        "                700.0, 725.0, 720.0, 714.0, 850.0, 1000.0, 920.0, 955.0, 925.0, 975.0, 950.0, 6.7, \n",
        "                7.5, 7.0, 9.7, 9.8, 8.7, 10.0, 9.9, 9.8, 12.2, 13.4, 12.2, 19.7, 19.9]\n",
        "\n",
        "fish_data=[[l, w] for l,w in zip(fish_length, fish_weight)]\n",
        "target_data=[0]*35 + [1]*14\n",
        "\n",
        "kn = KNeighborsClassifier() #k-최근접이웃알고리즘 객체 생성\n",
        "\n",
        "input_arr=np.array(fish_data)\n",
        "target_arr=np.array(target_data)\n",
        "\n",
        "index=np.arange(49)\n",
        "np.random.seed(49)\n",
        "np.random.shuffle(index)\n",
        "\n",
        "train_input=input_arr[index[:35]] #훈련세트에서1~35번쨰로 설정(물고기 특성값)\n",
        "train_target=target_arr[index[:35]] #훈련세트에서 1~35번째 설정(정답 값)\n",
        "\n",
        "test_input=input_arr[index[35:]] #테스트세트로 36~49번째 설정(물고기 특성값)\n",
        "test_target=target_arr[index[35:]] #테스트세트로 36~49번째 설정(정답 값)\n",
        "\n",
        "kn=kn.fit(train_input, train_target) #학습시키기\n",
        "\n",
        "kn.score(train_input, train_target) #훈련이 잘되었는지\n",
        "\n",
        "print(test_target)\n",
        "kn.predict(test_input) #새로운 데이터의 정답 예측\n",
        "\n",
        "test_target"
      ],
      "execution_count": 30,
      "outputs": [
        {
          "output_type": "stream",
          "text": [
            "[0 0 1 1 0 1 1 0 1 0 0 1 1 1]\n"
          ],
          "name": "stdout"
        },
        {
          "output_type": "execute_result",
          "data": {
            "text/plain": [
              "array([0, 0, 1, 1, 0, 1, 1, 0, 1, 0, 0, 1, 1, 1])"
            ]
          },
          "metadata": {
            "tags": []
          },
          "execution_count": 30
        }
      ]
    }
  ]
}